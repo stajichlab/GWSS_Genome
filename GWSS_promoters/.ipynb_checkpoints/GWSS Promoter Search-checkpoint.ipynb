{
 "cells": [
  {
   "cell_type": "markdown",
   "metadata": {},
   "source": [
    "# GWSS Consitutive Promoter Ortholog Search\n",
    "\n",
    "By: Cassie Ettinger\n",
    "Email: cassandra.ettinger@ucr.edu"
   ]
  },
  {
   "cell_type": "code",
   "execution_count": 16,
   "metadata": {},
   "outputs": [],
   "source": [
    "#loads some basic os/ipython functionality\n",
    "from os import chdir, mkdir\n",
    "from os.path import join\n",
    "from IPython.display import FileLinks, FileLink\n",
    "from Bio import Phylo"
   ]
  },
  {
   "cell_type": "markdown",
   "metadata": {},
   "source": [
    "## Data processing"
   ]
  },
  {
   "cell_type": "markdown",
   "metadata": {},
   "source": [
    "Get orthologs from flybase / white fly genomes (bga)"
   ]
  },
  {
   "cell_type": "code",
   "execution_count": null,
   "metadata": {},
   "outputs": [],
   "source": [
    "# First - turn multiline fasta into single line fasta file\n",
    "!awk '/^>/ {printf(\"\\n%s\\n\",$0);next; } { printf(\"%s\",$0);}  END {printf(\"\\n\");}'\n",
    "< data/promoter_prot.fasta > data/promoter_prot.fixed.fasta"
   ]
  },
  {
   "cell_type": "code",
   "execution_count": null,
   "metadata": {},
   "outputs": [],
   "source": [
    "#split genes into seperate fasta files\n",
    "for gene in $(cat genes.txt);\n",
    "do grep -A 1 '>'$gene data/promoter_prot.fixed.fasta | sed '/^--$/d' > $gene'.fasta'; \n",
    "done"
   ]
  },
  {
   "cell_type": "markdown",
   "metadata": {},
   "source": [
    "## Run phmmer to identify ortholog candidates"
   ]
  },
  {
   "cell_type": "code",
   "execution_count": null,
   "metadata": {},
   "outputs": [],
   "source": [
    "for gene in $(cat genes.txt);\n",
    "do phmmer --tblout $gene'phmmer_out_table' -o $gene'_phmmer_out' $gene'.fasta' data/Homalodisca_vitripennis_A6A7A9_masurca_v1.proteins.fixed.fa;\n",
    "done                   "
   ]
  },
  {
   "cell_type": "code",
   "execution_count": null,
   "metadata": {},
   "outputs": [],
   "source": [
    "#clean up\n",
    "for gene in $(cat genes.txt);\n",
    "do mkdir $gene'_results';\n",
    "done"
   ]
  },
  {
   "cell_type": "code",
   "execution_count": null,
   "metadata": {},
   "outputs": [],
   "source": [
    "for gene in $(cat genes.txt);\n",
    "do mv $gene* $gene'_results';\n",
    "done\n",
    "#will error about the results folders but thats OK"
   ]
  },
  {
   "cell_type": "markdown",
   "metadata": {},
   "source": [
    "## Look at phmmer results"
   ]
  },
  {
   "cell_type": "code",
   "execution_count": 2,
   "metadata": {},
   "outputs": [
    {
     "name": "stdout",
     "output_type": "stream",
     "text": [
      "#                                                               --- full sequence ---- --- best 1 domain ---- --- domain number estimation ----\r\n",
      "# target name        accession  query name           accession    E-value  score  bias   E-value  score  bias   exp reg clu  ov env dom rep inc description of target\r\n",
      "#------------------- ---------- -------------------- ---------- --------- ------ ----- --------- ------ -----   --- --- --- --- --- --- --- --- ---------------------\r\n",
      "HOVITM_103732-T1     -          PolyubiquitinA       -              8e-12   47.6   0.0   1.5e-11   46.7   0.0   1.3   1   0   0   1   1   1   1 HOVITM_103732\r\n",
      "HOVITM_024119-T1     -          PolyubiquitinA       -            1.8e-08   36.6   0.0   3.3e-08   35.7   0.0   1.3   1   0   0   1   1   1   1 HOVITM_024119\r\n",
      "HOVITM_100390-T1     -          PolyubiquitinA       -            0.00036   22.6   0.0   0.00064   21.7   0.0   1.3   1   0   0   1   1   1   1 HOVITM_100390\r\n",
      "HOVITM_087185-T1     -          PolyubiquitinA       -             0.0063   18.5   0.0    0.0095   17.9   0.0   1.3   1   0   0   1   1   1   1 HOVITM_087185\r\n",
      "HOVITM_050701-T1     -          PolyubiquitinA       -             0.0068   18.4   0.0    0.0085   18.1   0.0   1.2   1   0   0   1   1   1   1 HOVITM_050701\r\n",
      "HOVITM_063841-T1     -          PolyubiquitinA       -              0.011   17.7   0.0     0.017   17.1   0.0   1.3   1   0   0   1   1   1   0 HOVITM_063841\r\n",
      "HOVITM_069295-T1     -          PolyubiquitinA       -              0.026   16.5   0.0      0.04   15.9   0.0   1.3   1   0   0   1   1   1   0 HOVITM_069295\r\n",
      "HOVITM_033169-T1     -          PolyubiquitinA       -              0.078   14.9   0.0      0.12   14.4   0.0   1.2   1   0   0   1   1   1   0 HOVITM_033169\r\n",
      "#\r\n",
      "# Program:         phmmer\r\n",
      "# Version:         3.3.1 (Jul 2020)\r\n",
      "# Pipeline mode:   SEARCH\r\n",
      "# Query file:      PolyubiquitinA.fasta\r\n",
      "# Target file:     Homalodisca_vitripennis_A6A7A9_masurca_v1.proteins.fixed.fa\r\n",
      "# Option settings: phmmer -o PolyubiquitinAphmmer_out --tblout PolyubiquitinAphmmer_out_table PolyubiquitinA.fasta Homalodisca_vitripennis_A6A7A9_masurca_v1.proteins.fixed.fa \r\n",
      "# Current dir:     /Users/Cassie/Box Sync/StajichLab/GWSS/GWSS_promoters\r\n",
      "# Date:            Thu Nov 19 18:24:00 2020\r\n",
      "# [ok]\r\n"
     ]
    }
   ],
   "source": [
    "!cat PolyubiquitinA_results/PolyubiquitinAphmmer_out_table"
   ]
  },
  {
   "cell_type": "markdown",
   "metadata": {},
   "source": [
    "Try HOVITM_103732, HOVITM_024119 but likely want to grab more orthologs and try this search again"
   ]
  },
  {
   "cell_type": "code",
   "execution_count": 3,
   "metadata": {},
   "outputs": [
    {
     "name": "stdout",
     "output_type": "stream",
     "text": [
      "#                                                               --- full sequence ---- --- best 1 domain ---- --- domain number estimation ----\r\n",
      "# target name        accession  query name           accession    E-value  score  bias   E-value  score  bias   exp reg clu  ov env dom rep inc description of target\r\n",
      "#------------------- ---------- -------------------- ---------- --------- ------ ----- --------- ------ -----   --- --- --- --- --- --- --- --- ---------------------\r\n",
      "HOVITM_043299-T1     -          Actin1               -           1.3e-256  852.9   0.1  1.5e-256  852.7   0.1   1.0   1   0   0   1   1   1   1 HOVITM_043299\r\n",
      "HOVITM_022702-T1     -          Actin1               -           6.1e-255  847.4   0.0  6.8e-255  847.3   0.0   1.0   1   0   0   1   1   1   1 HOVITM_022702\r\n",
      "HOVITM_022703-T1     -          Actin1               -           5.8e-254  844.2   0.0  6.5e-254  844.0   0.0   1.0   1   0   0   1   1   1   1 HOVITM_022703\r\n",
      "HOVITM_100357-T1     -          Actin1               -             3e-222  739.8   0.1  3.4e-222  739.7   0.1   1.0   1   0   0   1   1   1   1 HOVITM_100357\r\n",
      "HOVITM_074977-T1     -          Actin1               -             1e-115  389.4   0.2   4.3e-74  252.4   0.0   3.2   1   1   2   3   3   3   3 HOVITM_074977\r\n",
      "HOVITM_001847-T1     -          Actin1               -            4.4e-85  288.6   3.1   6.3e-36  126.8   0.1   4.0   1   1   3   4   4   4   4 HOVITM_001847\r\n",
      "HOVITM_036827-T1     -          Actin1               -            9.4e-75  254.6   0.0   1.5e-74  253.9   0.0   1.3   1   1   0   1   1   1   1 HOVITM_036827\r\n",
      "HOVITM_081331-T1     -          Actin1               -            9.5e-66  225.0   0.0   6.6e-31  110.3   0.0   3.0   2   1   0   2   2   2   2 HOVITM_081331\r\n",
      "HOVITM_057745-T1     -          Actin1               -            3.4e-41  144.2   0.0     4e-41  144.0   0.0   1.1   1   0   0   1   1   1   1 HOVITM_057745\r\n",
      "HOVITM_114157-T1     -          Actin1               -            1.7e-29  105.6   0.0   8.5e-15   57.3   0.0   2.2   2   0   0   2   2   2   2 HOVITM_114157\r\n",
      "HOVITM_002378-T1     -          Actin1               -            1.3e-19   73.1   0.0   1.5e-19   73.0   0.0   1.0   1   0   0   1   1   1   1 HOVITM_002378\r\n",
      "HOVITM_095079-T1     -          Actin1               -            2.9e-18   68.7   0.0   2.2e-14   56.0   0.0   2.8   1   1   1   2   2   2   2 HOVITM_095079\r\n",
      "HOVITM_036825-T1     -          Actin1               -            4.8e-17   64.7   0.0   5.4e-17   64.6   0.0   1.0   1   0   0   1   1   1   1 HOVITM_036825\r\n",
      "HOVITM_002379-T1     -          Actin1               -            6.2e-15   57.8   0.0   8.8e-15   57.3   0.0   1.1   1   0   0   1   1   1   1 HOVITM_002379\r\n",
      "HOVITM_100356-T1     -          Actin1               -              2e-11   46.3   0.1     2e-11   46.3   0.1   1.1   1   0   0   1   1   1   1 HOVITM_100356\r\n",
      "HOVITM_013723-T1     -          Actin1               -            4.6e-11   45.0   0.0   6.2e-07   31.4   0.0   2.1   2   0   0   2   2   2   2 HOVITM_013723\r\n",
      "HOVITM_036826-T1     -          Actin1               -             0.0035   19.1   0.9     0.025   16.3   0.1   2.3   1   1   2   3   3   3   1 HOVITM_036826\r\n",
      "HOVITM_077264-T1     -          Actin1               -                0.5   12.0   0.0     3e+02    2.9   0.0   4.0   3   1   0   4   4   4   0 HOVITM_077264\r\n",
      "#\r\n",
      "# Program:         phmmer\r\n",
      "# Version:         3.3.1 (Jul 2020)\r\n",
      "# Pipeline mode:   SEARCH\r\n",
      "# Query file:      Actin1.fasta\r\n",
      "# Target file:     Homalodisca_vitripennis_A6A7A9_masurca_v1.proteins.fixed.fa\r\n",
      "# Option settings: phmmer -o Actin1phmmer_out --tblout Actin1phmmer_out_table Actin1.fasta Homalodisca_vitripennis_A6A7A9_masurca_v1.proteins.fixed.fa \r\n",
      "# Current dir:     /Users/Cassie/Box Sync/StajichLab/GWSS/GWSS_promoters\r\n",
      "# Date:            Thu Nov 19 18:24:00 2020\r\n",
      "# [ok]\r\n"
     ]
    }
   ],
   "source": [
    "!cat Actin1_results/Actin1phmmer_out_table"
   ]
  },
  {
   "cell_type": "markdown",
   "metadata": {},
   "source": [
    "try HOVITM_043299, HOVITM_022702, HOVITM_022703, HOVITM_100357"
   ]
  },
  {
   "cell_type": "code",
   "execution_count": 4,
   "metadata": {},
   "outputs": [
    {
     "name": "stdout",
     "output_type": "stream",
     "text": [
      "#                                                               --- full sequence ---- --- best 1 domain ---- --- domain number estimation ----\r\n",
      "# target name        accession  query name           accession    E-value  score  bias   E-value  score  bias   exp reg clu  ov env dom rep inc description of target\r\n",
      "#------------------- ---------- -------------------- ---------- --------- ------ ----- --------- ------ -----   --- --- --- --- --- --- --- --- ---------------------\r\n",
      "HOVITM_022702-T1     -          Actin2               -           9.2e-255  846.8   0.0    1e-254  846.7   0.0   1.0   1   0   0   1   1   1   1 HOVITM_022702\r\n",
      "HOVITM_043299-T1     -          Actin2               -           4.6e-254  844.5   0.0  5.1e-254  844.4   0.0   1.0   1   0   0   1   1   1   1 HOVITM_043299\r\n",
      "HOVITM_022703-T1     -          Actin2               -           4.3e-253  841.3   0.0  4.8e-253  841.2   0.0   1.0   1   0   0   1   1   1   1 HOVITM_022703\r\n",
      "HOVITM_100357-T1     -          Actin2               -           4.4e-227  755.7   0.1  4.9e-227  755.6   0.1   1.0   1   0   0   1   1   1   1 HOVITM_100357\r\n",
      "HOVITM_074977-T1     -          Actin2               -           4.7e-117  393.7   0.3   5.2e-75  255.4   0.0   3.2   1   1   2   3   3   3   3 HOVITM_074977\r\n",
      "HOVITM_001847-T1     -          Actin2               -            1.1e-85  290.5   3.4   2.7e-36  128.0   0.2   4.0   1   1   3   4   4   4   4 HOVITM_001847\r\n",
      "HOVITM_036827-T1     -          Actin2               -            8.2e-76  258.0   0.0   1.4e-75  257.3   0.0   1.3   1   1   0   1   1   1   1 HOVITM_036827\r\n",
      "HOVITM_081331-T1     -          Actin2               -            1.6e-65  224.2   0.1     3e-31  111.4   0.0   3.0   2   1   0   2   2   2   2 HOVITM_081331\r\n",
      "HOVITM_057745-T1     -          Actin2               -            4.6e-42  147.0   0.0   5.6e-42  146.7   0.0   1.1   1   0   0   1   1   1   1 HOVITM_057745\r\n",
      "HOVITM_114157-T1     -          Actin2               -            1.6e-30  109.0   0.0   1.4e-15   59.9   0.0   2.2   2   0   0   2   2   2   2 HOVITM_114157\r\n",
      "HOVITM_002378-T1     -          Actin2               -            2.3e-20   75.6   0.0   2.5e-20   75.4   0.0   1.0   1   0   0   1   1   1   1 HOVITM_002378\r\n",
      "HOVITM_095079-T1     -          Actin2               -            8.3e-19   70.4   0.0   5.8e-15   57.8   0.0   2.9   1   1   1   2   2   2   2 HOVITM_095079\r\n",
      "HOVITM_036825-T1     -          Actin2               -            2.2e-17   65.8   0.0   2.4e-17   65.6   0.0   1.0   1   0   0   1   1   1   1 HOVITM_036825\r\n",
      "HOVITM_002379-T1     -          Actin2               -            1.3e-15   59.9   0.0   1.9e-15   59.4   0.0   1.1   1   0   0   1   1   1   1 HOVITM_002379\r\n",
      "HOVITM_100356-T1     -          Actin2               -            2.9e-12   48.9   0.1   2.9e-12   48.9   0.1   1.2   1   0   0   1   1   1   1 HOVITM_100356\r\n",
      "HOVITM_013723-T1     -          Actin2               -            3.1e-10   42.3   0.0   4.3e-07   31.9   0.0   2.1   2   0   0   2   2   2   2 HOVITM_013723\r\n",
      "HOVITM_036826-T1     -          Actin2               -             0.0032   19.1   0.9     0.023   16.3   0.1   2.3   1   1   2   3   3   3   1 HOVITM_036826\r\n",
      "HOVITM_077264-T1     -          Actin2               -              0.024   16.3   0.0   1.4e+02    3.8   0.0   4.6   4   1   1   5   5   5   0 HOVITM_077264\r\n",
      "#\r\n",
      "# Program:         phmmer\r\n",
      "# Version:         3.3.1 (Jul 2020)\r\n",
      "# Pipeline mode:   SEARCH\r\n",
      "# Query file:      Actin2.fasta\r\n",
      "# Target file:     Homalodisca_vitripennis_A6A7A9_masurca_v1.proteins.fixed.fa\r\n",
      "# Option settings: phmmer -o Actin2phmmer_out --tblout Actin2phmmer_out_table Actin2.fasta Homalodisca_vitripennis_A6A7A9_masurca_v1.proteins.fixed.fa \r\n",
      "# Current dir:     /Users/Cassie/Box Sync/StajichLab/GWSS/GWSS_promoters\r\n",
      "# Date:            Thu Nov 19 18:24:00 2020\r\n",
      "# [ok]\r\n"
     ]
    }
   ],
   "source": [
    "!cat Actin2_results/Actin2phmmer_out_table"
   ]
  },
  {
   "cell_type": "markdown",
   "metadata": {},
   "source": [
    "Same four hits - HOVITM_043299, HOVITM_022702, HOVITM_022703, HOVITM_100357 - should combine Actin1 & Actin2 + hits to see"
   ]
  },
  {
   "cell_type": "code",
   "execution_count": 5,
   "metadata": {},
   "outputs": [
    {
     "name": "stdout",
     "output_type": "stream",
     "text": [
      "PolyubiquitinA\tHOVITM_103732\r\n",
      "PolyubiquitinA\tHOVITM_024119\r\n",
      "Actin1\tHOVITM_043299\r\n",
      "Actin1\tHOVITM_022702\r\n",
      "Actin1\tHOVITM_022703\r\n",
      "Actin1\tHOVITM_100357\r\n",
      "Actin2\tHOVITM_043299\r\n",
      "Actin2\tHOVITM_022702\r\n",
      "Actin2\tHOVITM_022703\r\n",
      "Actin2\tHOVITM_100357"
     ]
    }
   ],
   "source": [
    "!cat CandidateList.txt"
   ]
  },
  {
   "cell_type": "markdown",
   "metadata": {},
   "source": [
    "## Protein alignments against reference"
   ]
  },
  {
   "cell_type": "code",
   "execution_count": null,
   "metadata": {},
   "outputs": [],
   "source": [
    "#split by gene name\n",
    "for gene in $(cat genes.txt);\n",
    "do grep $gene CandidateList.txt | cut -f 2 > $gene'.hits.txt';\n",
    "done"
   ]
  },
  {
   "cell_type": "code",
   "execution_count": null,
   "metadata": {},
   "outputs": [],
   "source": [
    "#get sequences for hits\n",
    "for gene in $(cat genes.txt);\n",
    "    for hit in $(cat $gene'.hits.txt');\n",
    "    do grep -A 1 '>'$hit data/Homalodisca_vitripennis_A6A7A9_masurca_v1.proteins.fixed.fa | sed '/^--$/d' >> $gene'.hits.fasta';\n",
    "done"
   ]
  },
  {
   "cell_type": "code",
   "execution_count": null,
   "metadata": {},
   "outputs": [],
   "source": [
    "#combine hits and genes into single fasta\n",
    "for gene in $(cat genes.txt);\n",
    "do cat $gene'_results'/$gene'.fasta' $gene'.hits.fasta' > $gene'.aln.fasta'; \n",
    "done"
   ]
  },
  {
   "cell_type": "code",
   "execution_count": null,
   "metadata": {},
   "outputs": [],
   "source": [
    "#align\n",
    "for gene in $(cat genes.txt);\n",
    "do muscle -in $gene'.aln.fasta' -out $gene'.aln' -clw;\n",
    "done"
   ]
  },
  {
   "cell_type": "code",
   "execution_count": null,
   "metadata": {},
   "outputs": [],
   "source": [
    "#output for trees\n",
    "for gene in $(cat genes.txt);\n",
    "do muscle -in $gene'.aln.fasta' -out $gene'.aln.tre.fasta';\n",
    "done"
   ]
  },
  {
   "cell_type": "code",
   "execution_count": null,
   "metadata": {},
   "outputs": [],
   "source": [
    "#make protein trees\n",
    "for gene in $(cat genes.txt);\n",
    "do FastTree $gene'.aln.tre.fasta' > $gene'.aln.tre';\n",
    "done"
   ]
  },
  {
   "cell_type": "code",
   "execution_count": null,
   "metadata": {},
   "outputs": [],
   "source": [
    "#clean up output\n",
    "for gene in $(cat genes.txt);\n",
    "do mv $gene* $gene'_results';\n",
    "done\n",
    "#will error about the results folders but thats OK"
   ]
  },
  {
   "cell_type": "markdown",
   "metadata": {},
   "source": [
    "## Look at results"
   ]
  },
  {
   "cell_type": "markdown",
   "metadata": {},
   "source": [
    "### PolyubiquitinA"
   ]
  },
  {
   "cell_type": "code",
   "execution_count": 7,
   "metadata": {},
   "outputs": [
    {
     "name": "stdout",
     "output_type": "stream",
     "text": [
      "MUSCLE (3.8) multiple sequence alignment\r\n",
      "\r\n",
      "\r\n",
      "PolyubiquitinA        --------------MQIFVKTLTGKTITLEVEASDTIENVKAKIQDKEGI----------\r\n",
      "HOVITM_103732-T1      MSYKNGVNTDAQEQLTIFIETLTGTTFEVKVSPQDRVKTIKSKIQKVEGIPVSHQHLLYN\r\n",
      "HOVITM_024119-T1      ---------------------------MIQVVP---------------------------\r\n",
      "                                                  ::* .                           \r\n",
      "\r\n",
      "PolyubiquitinA        --------------------------------PPD-------------QQRLIFAGKQLE\r\n",
      "HOVITM_103732-T1      SKELQDSSCVTEPSVALHDQATVKLVLSLRGGPISLVHQAVPFNRNILKNLLKFNREELE\r\n",
      "HOVITM_024119-T1      --------------------------------PPTMLPTFVPLVTQMHQPLLMHQAEERV\r\n",
      "                                                      *               :  * .  ::  \r\n",
      "\r\n",
      "PolyubiquitinA        D----GRTLSDYNIQKESTLHL--------------------------------------\r\n",
      "HOVITM_103732-T1      EDLPPGCKMAILVLRVGDQLNLLHIVDDVDDSHDSLSNSRENLSIDSLEDEISKSVEENS\r\n",
      "HOVITM_024119-T1      SE-PPAKKM-----RTEESLIPEHVF---------LGKTKSPVTF---------------\r\n",
      "                      .    . .:     .  . *                                        \r\n",
      "\r\n",
      "PolyubiquitinA        -----VLRLRGGMQIFVKTLTGKTITLEVEASDTIENVKAKIQDKEGIPPDQQ---RLIF\r\n",
      "HOVITM_103732-T1      ITMGKVCDLKEKMEKLSLQRKGPKVDIKNEDVGATSLSRDVLHPSKLVGPIKLPSIDHQI\r\n",
      "HOVITM_024119-T1      -----AVAVPHMPERIEWKLKGQVLTVTLPLSDSVSVIKAKIYEATQVPPGKQ---KLHW\r\n",
      "                           .  :    : :    .*  : :     .: .  .  :     : * :        \r\n",
      "\r\n",
      "PolyubiquitinA        AGKQLEDGRTLSDYNIQK--------ESTLHLVLRLRGGMQIFVKTL-------------\r\n",
      "HOVITM_103732-T1      RGEMFKSRSEFSKIPVLPDIIPRPFQSTSRDLECVTLGKESTSTEICDTIRPKTCPGSLA\r\n",
      "HOVITM_024119-T1      EGMFFKDTNSLAFYNISP--------ATTIQLQIKERGGRKKNIKI--------------\r\n",
      "                       *  ::.   ::   :           ::  *     *  .   :               \r\n",
      "\r\n",
      "PolyubiquitinA        ----------------------------------------TGKTIT--------------\r\n",
      "HOVITM_103732-T1      ESQFYNVYSDDECENSLQIAQPHFRSCVSACASKLHHEWGGGKTLLPSLNILPPISGVSD\r\n",
      "HOVITM_024119-T1      -------------------------SFVDHSHIKFSH---GGKTVL--------------\r\n",
      "                                                               ***:               \r\n",
      "\r\n",
      "PolyubiquitinA        ----------------------------------------------------LEVEA---\r\n",
      "HOVITM_103732-T1      ILNNHRPVSNTDPRDMPSTQVPSIEKLSVVHRNLSSTLKLKQNLRKDTQSFLNRTESNFF\r\n",
      "HOVITM_024119-T1      -----------EQRDSAYCLV-----------------------------FLRDSEI---\r\n",
      "                                                                             *    \r\n",
      "\r\n",
      "PolyubiquitinA        --------------------------------------------SDTIENVKAKIQDKEG\r\n",
      "HOVITM_103732-T1      PKNVNCQEKSLQEGFSNSHYLPSTSHEFFPTPSSDFSSLITKMDSSSCDLATSKINNHVE\r\n",
      "HOVITM_024119-T1      --------------------------------------------TSKSDLFSSRVD----\r\n",
      "                                                                  :.. :  .:.::    \r\n",
      "\r\n",
      "PolyubiquitinA        IPPDQQRLIFAGKQLEDGRTLSDYNIQKESTLHL---VLRLRGGC-------\r\n",
      "HOVITM_103732-T1      EPLLSNKKIFDKKS-----RLRCAECKKRLSLTN---TFECRCGFAFCSYHR\r\n",
      "HOVITM_024119-T1      -----SKPIAVRHA-----TGKCKSLRGNITLEDRGKIIKEPDGIANITS--\r\n",
      "                           .. *   :           . .   :*      :    *        \r\n"
     ]
    }
   ],
   "source": [
    "!cat PolyubiquitinA_results/PolyubiquitinA.aln"
   ]
  },
  {
   "cell_type": "markdown",
   "metadata": {},
   "source": [
    "Doesn't look like either is particularly good hit, as expected"
   ]
  },
  {
   "cell_type": "code",
   "execution_count": 11,
   "metadata": {},
   "outputs": [
    {
     "name": "stdout",
     "output_type": "stream",
     "text": [
      "MUSCLE (3.8) multiple sequence alignment\r\n",
      "\r\n",
      "\r\n",
      "HOVITM_100357-T1      --------------------------------------------MVGMGQKDSYVGDEAQ\r\n",
      "HOVITM_022703-T1      MCDDEVAALVVDNGSGMCKAGFAGDDAPRAVFPSIVGRPRHQGVMVGMGQKDSYVGDEAQ\r\n",
      "HOVITM_022702-T1      MCDEEVAALVVDNGSGMCKAGFAGDDAPRAVFPSIVGRPRHQGVMVGMGQKDSYVGDEAQ\r\n",
      "Actin1                MCDDELAALVVDNGSGMCKAGFAGDDAPRAVFPSIVGRPRYQGIMVGMGQKDSYVGDEAQ\r\n",
      "HOVITM_043299-T1      MCDDDVAALVVDNGSGMCKAGFAGDDAPRAVFPSIVGRPRYQGIMVGMGQKDSYVGDEAQ\r\n",
      "                                                                  ****************\r\n",
      "\r\n",
      "HOVITM_100357-T1      SKRGILTLKYPIEHGIITNWDDMEKIWHHTFYNELRVAPEEHPILLTEAPLNPKANREKM\r\n",
      "HOVITM_022703-T1      SKRGILTLKYPIEHGIVTNWDDMEKIWHHTFYNELRVAPEEHPVLLTEAPLNPKANREKM\r\n",
      "HOVITM_022702-T1      SKRGILTLKYPIEHGIVTNWDDMEKIWHHTFYNELRVAPEEHPVLLTEAPLNPKANREKM\r\n",
      "Actin1                SKRGVLTVKYPIEHGIVSNWDDMEKIWHHTFYNELRIAPEEHPVLLTEAPLNPKANREKM\r\n",
      "HOVITM_043299-T1      SKRGILTVKYPIEHGIVTNWDDMEKIWHHTFYNELRVAPEEHPVLLTEAPLNPKANREKM\r\n",
      "                      ****:**:********::******************:******:****************\r\n",
      "\r\n",
      "HOVITM_100357-T1      TQIMFETFNTPAMYVAIQAVLSLYASGRTTGIVLDSGDGVSHTVPIYEGYALPHAILRLD\r\n",
      "HOVITM_022703-T1      TQIMFETFNTPAMYVAIQAVLSLYASGRTTGIVLDSGDGVSHTVPIYEGYALPHAILRLD\r\n",
      "HOVITM_022702-T1      TQIMFETFNTPAMYVAIQAVLSLYASGRTTGIVLDSGDGVSHTVPIYEGYALPHAILRLD\r\n",
      "Actin1                TQIMFETFNTPAMYVAIQAVLSLYASGRTTGIVLDSGDGVSHTVPIYEGYALPHAILRLD\r\n",
      "HOVITM_043299-T1      TQIMFETFNTPAMYVAIQAVLSLYASGRTTGIVLDSGDGVSHTVPIYEGYALPHAILRLD\r\n",
      "                      ************************************************************\r\n",
      "\r\n",
      "HOVITM_100357-T1      LAGRDLTDYLMKILTERGYSFTTTAEREIVRDIKEKLCYVALDFEQEMATAAASTSLEKS\r\n",
      "HOVITM_022703-T1      LAGRDLTDYLMKILTERGYSFTTTAEREIVRDIKEKLCYVALDFEQEMATAASSSSLEKS\r\n",
      "HOVITM_022702-T1      LAGRDLTDYLMKILTERGYSFTTTAEREIVRDIKEKLCYVALDFEQEMATAASSSSLEKS\r\n",
      "Actin1                LAGRDLTDYLMKILTERGYSFTTTAEREIVRDIKEKLCYVALDFEQEMATAASSSSLEKS\r\n",
      "HOVITM_043299-T1      LAGRDLTDYLMKILTERGYSFTTTAEREIVRDIKEKLCYVALDFEQEMATAASSSSLEKS\r\n",
      "                      ****************************************************:*:*****\r\n",
      "\r\n",
      "HOVITM_100357-T1      YELPDGQVITIGNERFRCPEALFQPSFLGMESCGIHETVYNSIMKCDVDIRKDLYANTVL\r\n",
      "HOVITM_022703-T1      YELPDGQVITIGNERFRCPEAMFQPSFLGMEANGLHETTYNSIMKCDVDIRKDLYANTVL\r\n",
      "HOVITM_022702-T1      YELPDGQVITIGNERFRCPEALFQPSFLGMEACGIHETTYNSIMKCDVDIRKDLYANTVL\r\n",
      "Actin1                YELPDGQVITIGNERFRCPEAMFQPSFLGMESCGIHETTYNSIMKCDVDIRKDLYANTVL\r\n",
      "HOVITM_043299-T1      YELPDGQVITIGNERFRCPEAMFQPSFLGMESCGIHETTYNSIMKCDVDIRKDLYANSVL\r\n",
      "                      *********************:*********: *:***.******************:**\r\n",
      "\r\n",
      "HOVITM_100357-T1      SGGTTMYPGIADRMQKEITALAPSTIKIKIIAPPERKYSVWIGGSILASLSTFQQMWISK\r\n",
      "HOVITM_022703-T1      SGGTTMYPGIADRMQKEITALAPSTMKIKIIAPPERKYSVWIGGSILASLSTFQQMWISK\r\n",
      "HOVITM_022702-T1      SGGTTMYPGIADRMQKEITALAPSTMKIKIIAPPERKYSVWIGGSILASLSTFQQMWISK\r\n",
      "Actin1                SGGTTMYPGIADRMQKEITALAPSTMKIKIVAPPERKYSVWIGGSILASLSTFQQMWISK\r\n",
      "HOVITM_043299-T1      SGGTTMYPGIADRMQKEITALAPSTMKIKIIAPPERKYSVWIGGSILASLSTFQQMWISK\r\n",
      "                      *************************:****:*****************************\r\n",
      "\r\n",
      "HOVITM_100357-T1      QEYDESGPGIVHRKCF\r\n",
      "HOVITM_022703-T1      QEYDESGPSIVHRKCF\r\n",
      "HOVITM_022702-T1      QEYDESGPSIVHRKCF\r\n",
      "Actin1                QEYDESGPSIVHRKCF\r\n",
      "HOVITM_043299-T1      QEYDESGPSIVHRKCF\r\n",
      "                      ********.*******\r\n"
     ]
    }
   ],
   "source": [
    "!cat Actin1_results/Actin1.aln"
   ]
  },
  {
   "cell_type": "code",
   "execution_count": 12,
   "metadata": {},
   "outputs": [
    {
     "name": "stdout",
     "output_type": "stream",
     "text": [
      "MUSCLE (3.8) multiple sequence alignment\r\n",
      "\r\n",
      "\r\n",
      "Actin2                MCDDDVAALVVDNGSGMCKAGFAGDDAPRAVFPSIVGRPRHQGVMVGMGQKDSYVGDEAQ\r\n",
      "HOVITM_100357-T1      --------------------------------------------MVGMGQKDSYVGDEAQ\r\n",
      "HOVITM_022703-T1      MCDDEVAALVVDNGSGMCKAGFAGDDAPRAVFPSIVGRPRHQGVMVGMGQKDSYVGDEAQ\r\n",
      "HOVITM_022702-T1      MCDEEVAALVVDNGSGMCKAGFAGDDAPRAVFPSIVGRPRHQGVMVGMGQKDSYVGDEAQ\r\n",
      "HOVITM_043299-T1      MCDDDVAALVVDNGSGMCKAGFAGDDAPRAVFPSIVGRPRYQGIMVGMGQKDSYVGDEAQ\r\n",
      "                                                                  ****************\r\n",
      "\r\n",
      "Actin2                SKRGILTLKYPIEHGIITNWDDMEKIWHHTFYNELRVAPEEHPILLTEAPLNPKANREKM\r\n",
      "HOVITM_100357-T1      SKRGILTLKYPIEHGIITNWDDMEKIWHHTFYNELRVAPEEHPILLTEAPLNPKANREKM\r\n",
      "HOVITM_022703-T1      SKRGILTLKYPIEHGIVTNWDDMEKIWHHTFYNELRVAPEEHPVLLTEAPLNPKANREKM\r\n",
      "HOVITM_022702-T1      SKRGILTLKYPIEHGIVTNWDDMEKIWHHTFYNELRVAPEEHPVLLTEAPLNPKANREKM\r\n",
      "HOVITM_043299-T1      SKRGILTVKYPIEHGIVTNWDDMEKIWHHTFYNELRVAPEEHPVLLTEAPLNPKANREKM\r\n",
      "                      *******:********:**************************:****************\r\n",
      "\r\n",
      "Actin2                TQIMFETFNTPAMYVAIQAVLSLYASGRTTGIVLDSGDGVSHTVPIYEGYALPHAILRLD\r\n",
      "HOVITM_100357-T1      TQIMFETFNTPAMYVAIQAVLSLYASGRTTGIVLDSGDGVSHTVPIYEGYALPHAILRLD\r\n",
      "HOVITM_022703-T1      TQIMFETFNTPAMYVAIQAVLSLYASGRTTGIVLDSGDGVSHTVPIYEGYALPHAILRLD\r\n",
      "HOVITM_022702-T1      TQIMFETFNTPAMYVAIQAVLSLYASGRTTGIVLDSGDGVSHTVPIYEGYALPHAILRLD\r\n",
      "HOVITM_043299-T1      TQIMFETFNTPAMYVAIQAVLSLYASGRTTGIVLDSGDGVSHTVPIYEGYALPHAILRLD\r\n",
      "                      ************************************************************\r\n",
      "\r\n",
      "Actin2                LAGRDLTDYLMKILTERGYSFTTTAEREIVRDIKEKLCYVALDFEQEMATAAASTSLEKS\r\n",
      "HOVITM_100357-T1      LAGRDLTDYLMKILTERGYSFTTTAEREIVRDIKEKLCYVALDFEQEMATAAASTSLEKS\r\n",
      "HOVITM_022703-T1      LAGRDLTDYLMKILTERGYSFTTTAEREIVRDIKEKLCYVALDFEQEMATAASSSSLEKS\r\n",
      "HOVITM_022702-T1      LAGRDLTDYLMKILTERGYSFTTTAEREIVRDIKEKLCYVALDFEQEMATAASSSSLEKS\r\n",
      "HOVITM_043299-T1      LAGRDLTDYLMKILTERGYSFTTTAEREIVRDIKEKLCYVALDFEQEMATAASSSSLEKS\r\n",
      "                      ****************************************************:*:*****\r\n",
      "\r\n",
      "Actin2                YELPDGQVITIGNERFRCPEALFQPSFLGMESCGIHETVYNSIMKCDVDIRKDLYANTVL\r\n",
      "HOVITM_100357-T1      YELPDGQVITIGNERFRCPEALFQPSFLGMESCGIHETVYNSIMKCDVDIRKDLYANTVL\r\n",
      "HOVITM_022703-T1      YELPDGQVITIGNERFRCPEAMFQPSFLGMEANGLHETTYNSIMKCDVDIRKDLYANTVL\r\n",
      "HOVITM_022702-T1      YELPDGQVITIGNERFRCPEALFQPSFLGMEACGIHETTYNSIMKCDVDIRKDLYANTVL\r\n",
      "HOVITM_043299-T1      YELPDGQVITIGNERFRCPEAMFQPSFLGMESCGIHETTYNSIMKCDVDIRKDLYANSVL\r\n",
      "                      *********************:*********: *:***.******************:**\r\n",
      "\r\n",
      "Actin2                SGGTTMYPGIADRMQKEITALAPSTIKIKIIAPPERKYSVWIGGSILASLSTFQQMWISK\r\n",
      "HOVITM_100357-T1      SGGTTMYPGIADRMQKEITALAPSTIKIKIIAPPERKYSVWIGGSILASLSTFQQMWISK\r\n",
      "HOVITM_022703-T1      SGGTTMYPGIADRMQKEITALAPSTMKIKIIAPPERKYSVWIGGSILASLSTFQQMWISK\r\n",
      "HOVITM_022702-T1      SGGTTMYPGIADRMQKEITALAPSTMKIKIIAPPERKYSVWIGGSILASLSTFQQMWISK\r\n",
      "HOVITM_043299-T1      SGGTTMYPGIADRMQKEITALAPSTMKIKIIAPPERKYSVWIGGSILASLSTFQQMWISK\r\n",
      "                      *************************:**********************************\r\n",
      "\r\n",
      "Actin2                QEYDESGPGIVHRKCF\r\n",
      "HOVITM_100357-T1      QEYDESGPGIVHRKCF\r\n",
      "HOVITM_022703-T1      QEYDESGPSIVHRKCF\r\n",
      "HOVITM_022702-T1      QEYDESGPSIVHRKCF\r\n",
      "HOVITM_043299-T1      QEYDESGPSIVHRKCF\r\n",
      "                      ********.*******\r\n"
     ]
    }
   ],
   "source": [
    "!cat Actin2_results/Actin2.aln"
   ]
  },
  {
   "cell_type": "markdown",
   "metadata": {},
   "source": [
    "Combine Actin1 & 2 and re-do alignment"
   ]
  },
  {
   "cell_type": "code",
   "execution_count": null,
   "metadata": {},
   "outputs": [],
   "source": [
    "!cat Actin1_results/Actin1.fasta Actin1_results/Actin1.hits.fasta Actin2_results/Actin2.fasta > Actin.combined.fasta"
   ]
  },
  {
   "cell_type": "code",
   "execution_count": null,
   "metadata": {},
   "outputs": [],
   "source": [
    "#align\n",
    "muscle -in Actin.combined.fasta -out Actin.combined.aln -clw\n",
    "\n",
    "#align and get tree\n",
    "muscle -in Actin.combined.fasta -out Actin.combined.aln.tre.fasta\n",
    "FastTree Actin.combined.aln.tre.fasta > Actin.combined.aln.tre\n",
    "\n",
    "#clean up\n",
    "mkdir Actin.combined.results\n",
    "mv Actin.combined* Actin.combined.results/"
   ]
  },
  {
   "cell_type": "code",
   "execution_count": 14,
   "metadata": {},
   "outputs": [
    {
     "name": "stdout",
     "output_type": "stream",
     "text": [
      "MUSCLE (3.8) multiple sequence alignment\r\n",
      "\r\n",
      "\r\n",
      "HOVITM_100357-T1      --------------------------------------------MVGMGQKDSYVGDEAQ\r\n",
      "Actin2                MCDDDVAALVVDNGSGMCKAGFAGDDAPRAVFPSIVGRPRHQGVMVGMGQKDSYVGDEAQ\r\n",
      "HOVITM_022703-T1      MCDDEVAALVVDNGSGMCKAGFAGDDAPRAVFPSIVGRPRHQGVMVGMGQKDSYVGDEAQ\r\n",
      "HOVITM_022702-T1      MCDEEVAALVVDNGSGMCKAGFAGDDAPRAVFPSIVGRPRHQGVMVGMGQKDSYVGDEAQ\r\n",
      "Actin1                MCDDELAALVVDNGSGMCKAGFAGDDAPRAVFPSIVGRPRYQGIMVGMGQKDSYVGDEAQ\r\n",
      "HOVITM_043299-T1      MCDDDVAALVVDNGSGMCKAGFAGDDAPRAVFPSIVGRPRYQGIMVGMGQKDSYVGDEAQ\r\n",
      "                                                                  ****************\r\n",
      "\r\n",
      "HOVITM_100357-T1      SKRGILTLKYPIEHGIITNWDDMEKIWHHTFYNELRVAPEEHPILLTEAPLNPKANREKM\r\n",
      "Actin2                SKRGILTLKYPIEHGIITNWDDMEKIWHHTFYNELRVAPEEHPILLTEAPLNPKANREKM\r\n",
      "HOVITM_022703-T1      SKRGILTLKYPIEHGIVTNWDDMEKIWHHTFYNELRVAPEEHPVLLTEAPLNPKANREKM\r\n",
      "HOVITM_022702-T1      SKRGILTLKYPIEHGIVTNWDDMEKIWHHTFYNELRVAPEEHPVLLTEAPLNPKANREKM\r\n",
      "Actin1                SKRGVLTVKYPIEHGIVSNWDDMEKIWHHTFYNELRIAPEEHPVLLTEAPLNPKANREKM\r\n",
      "HOVITM_043299-T1      SKRGILTVKYPIEHGIVTNWDDMEKIWHHTFYNELRVAPEEHPVLLTEAPLNPKANREKM\r\n",
      "                      ****:**:********::******************:******:****************\r\n",
      "\r\n",
      "HOVITM_100357-T1      TQIMFETFNTPAMYVAIQAVLSLYASGRTTGIVLDSGDGVSHTVPIYEGYALPHAILRLD\r\n",
      "Actin2                TQIMFETFNTPAMYVAIQAVLSLYASGRTTGIVLDSGDGVSHTVPIYEGYALPHAILRLD\r\n",
      "HOVITM_022703-T1      TQIMFETFNTPAMYVAIQAVLSLYASGRTTGIVLDSGDGVSHTVPIYEGYALPHAILRLD\r\n",
      "HOVITM_022702-T1      TQIMFETFNTPAMYVAIQAVLSLYASGRTTGIVLDSGDGVSHTVPIYEGYALPHAILRLD\r\n",
      "Actin1                TQIMFETFNTPAMYVAIQAVLSLYASGRTTGIVLDSGDGVSHTVPIYEGYALPHAILRLD\r\n",
      "HOVITM_043299-T1      TQIMFETFNTPAMYVAIQAVLSLYASGRTTGIVLDSGDGVSHTVPIYEGYALPHAILRLD\r\n",
      "                      ************************************************************\r\n",
      "\r\n",
      "HOVITM_100357-T1      LAGRDLTDYLMKILTERGYSFTTTAEREIVRDIKEKLCYVALDFEQEMATAAASTSLEKS\r\n",
      "Actin2                LAGRDLTDYLMKILTERGYSFTTTAEREIVRDIKEKLCYVALDFEQEMATAAASTSLEKS\r\n",
      "HOVITM_022703-T1      LAGRDLTDYLMKILTERGYSFTTTAEREIVRDIKEKLCYVALDFEQEMATAASSSSLEKS\r\n",
      "HOVITM_022702-T1      LAGRDLTDYLMKILTERGYSFTTTAEREIVRDIKEKLCYVALDFEQEMATAASSSSLEKS\r\n",
      "Actin1                LAGRDLTDYLMKILTERGYSFTTTAEREIVRDIKEKLCYVALDFEQEMATAASSSSLEKS\r\n",
      "HOVITM_043299-T1      LAGRDLTDYLMKILTERGYSFTTTAEREIVRDIKEKLCYVALDFEQEMATAASSSSLEKS\r\n",
      "                      ****************************************************:*:*****\r\n",
      "\r\n",
      "HOVITM_100357-T1      YELPDGQVITIGNERFRCPEALFQPSFLGMESCGIHETVYNSIMKCDVDIRKDLYANTVL\r\n",
      "Actin2                YELPDGQVITIGNERFRCPEALFQPSFLGMESCGIHETVYNSIMKCDVDIRKDLYANTVL\r\n",
      "HOVITM_022703-T1      YELPDGQVITIGNERFRCPEAMFQPSFLGMEANGLHETTYNSIMKCDVDIRKDLYANTVL\r\n",
      "HOVITM_022702-T1      YELPDGQVITIGNERFRCPEALFQPSFLGMEACGIHETTYNSIMKCDVDIRKDLYANTVL\r\n",
      "Actin1                YELPDGQVITIGNERFRCPEAMFQPSFLGMESCGIHETTYNSIMKCDVDIRKDLYANTVL\r\n",
      "HOVITM_043299-T1      YELPDGQVITIGNERFRCPEAMFQPSFLGMESCGIHETTYNSIMKCDVDIRKDLYANSVL\r\n",
      "                      *********************:*********: *:***.******************:**\r\n",
      "\r\n",
      "HOVITM_100357-T1      SGGTTMYPGIADRMQKEITALAPSTIKIKIIAPPERKYSVWIGGSILASLSTFQQMWISK\r\n",
      "Actin2                SGGTTMYPGIADRMQKEITALAPSTIKIKIIAPPERKYSVWIGGSILASLSTFQQMWISK\r\n",
      "HOVITM_022703-T1      SGGTTMYPGIADRMQKEITALAPSTMKIKIIAPPERKYSVWIGGSILASLSTFQQMWISK\r\n",
      "HOVITM_022702-T1      SGGTTMYPGIADRMQKEITALAPSTMKIKIIAPPERKYSVWIGGSILASLSTFQQMWISK\r\n",
      "Actin1                SGGTTMYPGIADRMQKEITALAPSTMKIKIVAPPERKYSVWIGGSILASLSTFQQMWISK\r\n",
      "HOVITM_043299-T1      SGGTTMYPGIADRMQKEITALAPSTMKIKIIAPPERKYSVWIGGSILASLSTFQQMWISK\r\n",
      "                      *************************:****:*****************************\r\n",
      "\r\n",
      "HOVITM_100357-T1      QEYDESGPGIVHRKCF\r\n",
      "Actin2                QEYDESGPGIVHRKCF\r\n",
      "HOVITM_022703-T1      QEYDESGPSIVHRKCF\r\n",
      "HOVITM_022702-T1      QEYDESGPSIVHRKCF\r\n",
      "Actin1                QEYDESGPSIVHRKCF\r\n",
      "HOVITM_043299-T1      QEYDESGPSIVHRKCF\r\n",
      "                      ********.*******\r\n"
     ]
    }
   ],
   "source": [
    "#look at combined results\n",
    "!cat Actin.combined.results/Actin.combined.aln"
   ]
  },
  {
   "cell_type": "code",
   "execution_count": 20,
   "metadata": {},
   "outputs": [
    {
     "name": "stdout",
     "output_type": "stream",
     "text": [
      "                                                       , HOVITM_100357-T1\n",
      "  _____________________________________________________|\n",
      " |                                                     | Actin2\n",
      " |\n",
      "_|_____ HOVITM_022702-T1\n",
      " |\n",
      " |     ____________ HOVITM_022703-T1\n",
      " |____|\n",
      "      |                        ______________________________ Actin1\n",
      "      |_______________________|\n",
      "                              |___________ HOVITM_043299-T1\n",
      "\n"
     ]
    }
   ],
   "source": [
    "tree = Phylo.read(\"Actin.combined.results/Actin.combined.aln.tre\", \"newick\")\n",
    "Phylo.draw_ascii(tree)"
   ]
  },
  {
   "cell_type": "code",
   "execution_count": 18,
   "metadata": {},
   "outputs": [
    {
     "name": "stdout",
     "output_type": "stream",
     "text": [
      "                                                            , HOVITM_100357-T1\n",
      "                                 ___________________________|\n",
      "                              __|                           | Actin2\n",
      "                             |  |\n",
      "                 ____________|  |__ HOVITM_022702-T1\n",
      "                |            |\n",
      "  ______________|            |_____ HOVITM_022703-T1\n",
      " |              |\n",
      "_|              |_____ HOVITM_043299-T1\n",
      " |\n",
      " | Actin1\n",
      "\n"
     ]
    }
   ],
   "source": [
    "tree = Phylo.read(\"Actin.combined.results/Actin.combined.aln.tre\", \"newick\")\n",
    "#root to Actin1\n",
    "tree.root_with_outgroup({\"name\": \"Actin1\"}) \n",
    "Phylo.draw_ascii(tree)"
   ]
  },
  {
   "cell_type": "code",
   "execution_count": 19,
   "metadata": {},
   "outputs": [
    {
     "name": "stdout",
     "output_type": "stream",
     "text": [
      "                              ___ HOVITM_022702-T1\n",
      "  ___________________________|\n",
      " |                           |   ______ HOVITM_022703-T1\n",
      " |                           |__|\n",
      " |                              |             _______________ Actin1\n",
      " |                              |____________|\n",
      " |                                           |_____ HOVITM_043299-T1\n",
      "_|\n",
      " | HOVITM_100357-T1\n",
      " |\n",
      " | Actin2\n",
      "\n"
     ]
    }
   ],
   "source": [
    "tree = Phylo.read(\"Actin.combined.results/Actin.combined.aln.tre\", \"newick\")\n",
    "#root to Actin2 \n",
    "tree.root_with_outgroup({\"name\": \"Actin2\"}) \n",
    "Phylo.draw_ascii(tree)"
   ]
  },
  {
   "cell_type": "markdown",
   "metadata": {},
   "source": [
    "I wonder if there is an Actin 3 / 4??? \n",
    "Going to check white fly database and if so download"
   ]
  },
  {
   "cell_type": "code",
   "execution_count": 24,
   "metadata": {},
   "outputs": [],
   "source": [
    "#combine with alt actins\n",
    "!cat Actin.combined.results/Actin.combined.fasta data/whitefly_other_Actin.fasta > Actin.combined.results/Actin.all.fasta"
   ]
  },
  {
   "cell_type": "code",
   "execution_count": null,
   "metadata": {},
   "outputs": [],
   "source": [
    "#align\n",
    "muscle -in Actin.combined.results/Actin.all.fasta -out Actin.combined.results/Actin.all.aln -clw\n",
    "\n",
    "#align and get tree\n",
    "muscle -in Actin.combined.results/Actin.all.fasta -out Actin.combined.results/Actin.all.aln.tre.fasta\n",
    "FastTree Actin.combined.results/Actin.all.aln.tre.fasta > Actin.combined.results/Actin.all.aln.tre"
   ]
  },
  {
   "cell_type": "code",
   "execution_count": 25,
   "metadata": {},
   "outputs": [
    {
     "name": "stdout",
     "output_type": "stream",
     "text": [
      "MUSCLE (3.8) multiple sequence alignment\r\n",
      "\r\n",
      "\r\n",
      "Actin_Bta10561        -MTGRLPA---CVIDVGTGYTKLGFACNKEPQFIIPSAIAIKETAKVGEQSIRRLTKGVE\r\n",
      "Actin_Bta01470        MEAYDVIANQPVVIDNGSGVIKAGFAGDQVPKCCFPNY--------VGRPKHVRVMAGAL\r\n",
      "HOVITM_100357-T1      -------------------------------------------------------MVGMG\r\n",
      "Actin2                MCDDDVAA---LVVDNGSGMCKAGFAGDDAPRAVFPSI--------VGRPRHQGVMVGMG\r\n",
      "HOVITM_022703-T1      MCDDEVAA---LVVDNGSGMCKAGFAGDDAPRAVFPSI--------VGRPRHQGVMVGMG\r\n",
      "HOVITM_022702-T1      MCDEEVAA---LVVDNGSGMCKAGFAGDDAPRAVFPSI--------VGRPRHQGVMVGMG\r\n",
      "Actin4                MCDEEVAA---LVVDNGSGMCKAGFAGDDAPRAVFPSI--------VGRPRHQGVMVGMG\r\n",
      "Actin1                MCDDELAA---LVVDNGSGMCKAGFAGDDAPRAVFPSI--------VGRPRYQGIMVGMG\r\n",
      "HOVITM_043299-T1      MCDDDVAA---LVVDNGSGMCKAGFAGDDAPRAVFPSI--------VGRPRYQGIMVGMG\r\n",
      "                                                                               *  \r\n",
      "\r\n",
      "Actin_Bta10561        DLDFYIGDEATNAKG-YAVKYPVRHGLVEDWDLMEKFLEQCI-FKYLRADPEDHYFLLTE\r\n",
      "Actin_Bta01470        EGEEFVGPKAEEHRGLLSIKYPMEHGVVTDWNDMEKIWQYIYGKDQLQTFSEEHPVLLTE\r\n",
      "HOVITM_100357-T1      QKDSYVGDEAQSKRGILTLKYPIEHGIITNWDDMEKIWHHTF-YNELRVAPEEHPILLTE\r\n",
      "Actin2                QKDSYVGDEAQSKRGILTLKYPIEHGIITNWDDMEKIWHHTF-YNELRVAPEEHPILLTE\r\n",
      "HOVITM_022703-T1      QKDSYVGDEAQSKRGILTLKYPIEHGIVTNWDDMEKIWHHTF-YNELRVAPEEHPVLLTE\r\n",
      "HOVITM_022702-T1      QKDSYVGDEAQSKRGILTLKYPIEHGIVTNWDDMEKIWHHTF-YNELRVAPEEHPVLLTE\r\n",
      "Actin4                QKDSYVGDEAQSKRGILTLKYPIEHGIVTNWDDMEKIWHHTF-YNELRVAPEEHPVLLTE\r\n",
      "Actin1                QKDSYVGDEAQSKRGVLTVKYPIEHGIVSNWDDMEKIWHHTF-YNELRIAPEEHPVLLTE\r\n",
      "HOVITM_043299-T1      QKDSYVGDEAQSKRGILTVKYPIEHGIVTNWDDMEKIWHHTF-YNELRVAPEEHPVLLTE\r\n",
      "                      : : ::* :* . .*  ::***: **:: :*: ***:       . *.  .*:* .****\r\n",
      "\r\n",
      "Actin_Bta10561        PPLNTPENREYLAEIMFESFNVPGLYIAVQAVLALAASWNRKTENAAILNGLVVDSGDGV\r\n",
      "Actin_Bta01470        APLNPRRNREKAAEIFFETFNVPALYVSMQAVLSLYAT-GRMT-------GVVLDAGDGV\r\n",
      "HOVITM_100357-T1      APLNPKANREKMTQIMFETFNTPAMYVAIQAVLSLYAS-GRTT-------GIVLDSGDGV\r\n",
      "Actin2                APLNPKANREKMTQIMFETFNTPAMYVAIQAVLSLYAS-GRTT-------GIVLDSGDGV\r\n",
      "HOVITM_022703-T1      APLNPKANREKMTQIMFETFNTPAMYVAIQAVLSLYAS-GRTT-------GIVLDSGDGV\r\n",
      "HOVITM_022702-T1      APLNPKANREKMTQIMFETFNTPAMYVAIQAVLSLYAS-GRTT-------GIVLDSGDGV\r\n",
      "Actin4                APLNPKANREKMTQIMFETFNTPAMYVAIQAVLSLYAS-GRTT-------GIVLDSGD--\r\n",
      "Actin1                APLNPKANREKMTQIMFETFNTPAMYVAIQAVLSLYAS-GRTT-------GIVLDSGDGV\r\n",
      "HOVITM_043299-T1      APLNPKANREKMTQIMFETFNTPAMYVAIQAVLSLYAS-GRTT-------GIVLDSGDGV\r\n",
      "                      .***.  ***  ::*:**:**.*.:*:::****:* *: .* *       *:*:*:**  \r\n",
      "\r\n",
      "Actin_Bta10561        THVIPVAEGHVIGSCIKHIPIAGRNITYFIQSLLREREVGIPPEQSLETAKAIKERYSYV\r\n",
      "Actin_Bta01470        THAVPIYEGFGMPHSIMRVDTAGRDVTRYLRLLLRKEGICFRTTAEFEIVRTIKEKACYL\r\n",
      "HOVITM_100357-T1      SHTVPIYEGYALPHAILRLDLAGRDLTDYLMKILTERGYSFTTTAEREIVRDIKEKLCYV\r\n",
      "Actin2                SHTVPIYEGYALPHAILRLDLAGRDLTDYLMKILTERGYSFTTTAEREIVRDIKEKLCYV\r\n",
      "HOVITM_022703-T1      SHTVPIYEGYALPHAILRLDLAGRDLTDYLMKILTERGYSFTTTAEREIVRDIKEKLCYV\r\n",
      "HOVITM_022702-T1      SHTVPIYEGYALPHAILRLDLAGRDLTDYLMKILTERGYSFTTTAEREIVRDIKEKLCYV\r\n",
      "Actin4                --------GYALPHAILRLDLAGRDLTDYLMKILTERGYSFTTTAEREIVRDIKEKLCYV\r\n",
      "Actin1                SHTVPIYEGYALPHAILRLDLAGRDLTDYLMKILTERGYSFTTTAEREIVRDIKEKLCYV\r\n",
      "HOVITM_043299-T1      SHTVPIYEGYALPHAILRLDLAGRDLTDYLMKILTERGYSFTTTAEREIVRDIKEKLCYV\r\n",
      "                              *. :  .* .:  ***::* ::  :* :    : .  . * .. ***. .*:\r\n",
      "\r\n",
      "Actin_Bta10561        CPDIAREFAKYDSDPAKWTKKFEGVNSVTKVPFSVDVGYERFLGPEIFFHPEFSNPDFNT\r\n",
      "Actin_Bta01470        SRNISKEESN-QGQKGK-GYQYILPDGST-----LEIGQARYKAPEVLFRPDLIGEE-YE\r\n",
      "HOVITM_100357-T1      ALDFEQEMAT-AAASTSLEKSYELPDGQV-----ITIGNERFRCPEALFQPSFLGME-SC\r\n",
      "Actin2                ALDFEQEMAT-AAASTSLEKSYELPDGQV-----ITIGNERFRCPEALFQPSFLGME-SC\r\n",
      "HOVITM_022703-T1      ALDFEQEMAT-AASSSSLEKSYELPDGQV-----ITIGNERFRCPEAMFQPSFLGME-AN\r\n",
      "HOVITM_022702-T1      ALDFEQEMAT-AASSSSLEKSYELPDGQV-----ITIGNERFRCPEALFQPSFLGME-AC\r\n",
      "Actin4                ALDFEQEMAT-AASSSSLEKSYELPDGQV-----ITIGNERFRCPEALFQPSFLGME-AC\r\n",
      "Actin1                ALDFEQEMAT-AASSSSLEKSYELPDGQV-----ITIGNERFRCPEAMFQPSFLGME-SC\r\n",
      "HOVITM_043299-T1      ALDFEQEMAT-AASSSSLEKSYELPDGQV-----ITIGNERFRCPEAMFQPSFLGME-SC\r\n",
      "                      . :: .* :.  .   .   .:   :. .     : :*  *:  ** :*.*.: . :   \r\n",
      "\r\n",
      "Actin_Bta10561        PISEIVDNVIQNCPIDVRRSLYQNIVLSGGSTMFRDFDRRLQRDIQRVVDARLKQSETLS\r\n",
      "Actin_Bta01470        GLHEVLLLAIQKSDMDLRRVLYQNIVLSGGSTLFKGFGDRLLAEIKK-------------\r\n",
      "HOVITM_100357-T1      GIHETVYNSIMKCDVDIRKDLYANTVLSGGTTMYPGIADRMQKEITA-------------\r\n",
      "Actin2                GIHETVYNSIMKCDVDIRKDLYANTVLSGGTTMYPGIADRMQKEITA-------------\r\n",
      "HOVITM_022703-T1      GLHETTYNSIMKCDVDIRKDLYANTVLSGGTTMYPGIADRMQKEITA-------------\r\n",
      "HOVITM_022702-T1      GIHETTYNSIMKCDVDIRKDLYANTVLSGGTTMYPGIADRMQKEITA-------------\r\n",
      "Actin4                GIHETTYNSIMKCDVDIRKDLYANTVLSGGTTMYPGIADRMQKEITA-------------\r\n",
      "Actin1                GIHETTYNSIMKCDVDIRKDLYANTVLSGGTTMYPGIADRMQKEITA-------------\r\n",
      "HOVITM_043299-T1      GIHETTYNSIMKCDVDIRKDLYANSVLSGGTTMYPGIADRMQKEITA-------------\r\n",
      "                       : *     * :. :*:*. ** * *****:*:: .:  *:  :*               \r\n",
      "\r\n",
      "Actin_Bta10561        GGYIKPKPVDVQVVSHKMQRYAVFFGGSLYASTPEFFQMCHTKKAYEEFGPSICRHNPVF\r\n",
      "Actin_Bta01470        ---LSSKDTKIRISAPQERLYSTWIGGSILASLDTFKKMWVSKQEFHDGGLREF-HRKTF\r\n",
      "HOVITM_100357-T1      ---LAPSTIKIKIIAPPERKYSVWIGGSILASLSTFQQMWISKQEYDESGPGIV-HRKCF\r\n",
      "Actin2                ---LAPSTIKIKIIAPPERKYSVWIGGSILASLSTFQQMWISKQEYDESGPGIV-HRKCF\r\n",
      "HOVITM_022703-T1      ---LAPSTMKIKIIAPPERKYSVWIGGSILASLSTFQQMWISKQEYDESGPSIV-HRKCF\r\n",
      "HOVITM_022702-T1      ---LAPSTMKIKIIAPPERKYSVWIGGSILASLSTFQQMWISKQEYDESGPSIV-HRKCF\r\n",
      "Actin4                ---LAPSTMKIKIIAPPERKYSVWIGGSILASLSTFQQMWISKQEYDESGPSIV-HRKCF\r\n",
      "Actin1                ---LAPSTMKIKIVAPPERKYSVWIGGSILASLSTFQQMWISKQEYDESGPSIV-HRKCF\r\n",
      "HOVITM_043299-T1      ---LAPSTMKIKIIAPPERKYSVWIGGSILASLSTFQQMWISKQEYDESGPSIV-HRKCF\r\n",
      "                         : ..  .:.: :   . *:.::***: **   * :*  :*: : : *     *.  *\r\n",
      "\r\n",
      "Actin_Bta10561        GTMN\r\n",
      "Actin_Bta01470        ----\r\n",
      "HOVITM_100357-T1      ----\r\n",
      "Actin2                ----\r\n",
      "HOVITM_022703-T1      ----\r\n",
      "HOVITM_022702-T1      ----\r\n",
      "Actin4                ----\r\n",
      "Actin1                ----\r\n",
      "HOVITM_043299-T1      ----\r\n",
      "                          \r\n"
     ]
    }
   ],
   "source": [
    "!cat Actin.combined.results/Actin.all.aln"
   ]
  },
  {
   "cell_type": "code",
   "execution_count": 26,
   "metadata": {},
   "outputs": [
    {
     "name": "stdout",
     "output_type": "stream",
     "text": [
      "               _____________________________________________ Actin_Bta10561\n",
      "  ____________|\n",
      " |            |______________________ Actin_Bta01470\n",
      " |\n",
      " , HOVITM_100357-T1\n",
      " |\n",
      "_| Actin2\n",
      " |\n",
      " , HOVITM_022703-T1\n",
      " |\n",
      " |, Actin1\n",
      " ||\n",
      " || HOVITM_043299-T1\n",
      " |\n",
      " , HOVITM_022702-T1\n",
      " |\n",
      " | Actin4\n",
      "\n"
     ]
    }
   ],
   "source": [
    "tree = Phylo.read(\"Actin.combined.results/Actin.all.aln.tre\", \"newick\")\n",
    "Phylo.draw_ascii(tree)"
   ]
  },
  {
   "cell_type": "code",
   "execution_count": 27,
   "metadata": {},
   "outputs": [],
   "source": [
    "#just including Actin4 \n",
    "#combine with alt actins\n",
    "!cat Actin.combined.results/Actin.combined.fasta data/Actin4.fasta > Actin.combined.results/Actin.with4.fasta"
   ]
  },
  {
   "cell_type": "code",
   "execution_count": null,
   "metadata": {},
   "outputs": [],
   "source": [
    "#align\n",
    "muscle -in Actin.combined.results/Actin.with4.fasta -out Actin.combined.results/Actin.with4.aln -clw\n",
    "\n",
    "#align and get tree\n",
    "muscle -in Actin.combined.results/Actin.with4.fasta -out Actin.combined.results/Actin.with4.aln.tre.fasta\n",
    "FastTree Actin.combined.results/Actin.with4.aln.tre.fasta > Actin.combined.results/Actin.with4.aln.tre"
   ]
  },
  {
   "cell_type": "code",
   "execution_count": 28,
   "metadata": {},
   "outputs": [
    {
     "name": "stdout",
     "output_type": "stream",
     "text": [
      "MUSCLE (3.8) multiple sequence alignment\r\n",
      "\r\n",
      "\r\n",
      "HOVITM_100357-T1      --------------------------------------------MVGMGQKDSYVGDEAQ\r\n",
      "Actin2                MCDDDVAALVVDNGSGMCKAGFAGDDAPRAVFPSIVGRPRHQGVMVGMGQKDSYVGDEAQ\r\n",
      "HOVITM_022703-T1      MCDDEVAALVVDNGSGMCKAGFAGDDAPRAVFPSIVGRPRHQGVMVGMGQKDSYVGDEAQ\r\n",
      "HOVITM_022702-T1      MCDEEVAALVVDNGSGMCKAGFAGDDAPRAVFPSIVGRPRHQGVMVGMGQKDSYVGDEAQ\r\n",
      "Actin4                MCDEEVAALVVDNGSGMCKAGFAGDDAPRAVFPSIVGRPRHQGVMVGMGQKDSYVGDEAQ\r\n",
      "Actin1                MCDDELAALVVDNGSGMCKAGFAGDDAPRAVFPSIVGRPRYQGIMVGMGQKDSYVGDEAQ\r\n",
      "HOVITM_043299-T1      MCDDDVAALVVDNGSGMCKAGFAGDDAPRAVFPSIVGRPRYQGIMVGMGQKDSYVGDEAQ\r\n",
      "                                                                  ****************\r\n",
      "\r\n",
      "HOVITM_100357-T1      SKRGILTLKYPIEHGIITNWDDMEKIWHHTFYNELRVAPEEHPILLTEAPLNPKANREKM\r\n",
      "Actin2                SKRGILTLKYPIEHGIITNWDDMEKIWHHTFYNELRVAPEEHPILLTEAPLNPKANREKM\r\n",
      "HOVITM_022703-T1      SKRGILTLKYPIEHGIVTNWDDMEKIWHHTFYNELRVAPEEHPVLLTEAPLNPKANREKM\r\n",
      "HOVITM_022702-T1      SKRGILTLKYPIEHGIVTNWDDMEKIWHHTFYNELRVAPEEHPVLLTEAPLNPKANREKM\r\n",
      "Actin4                SKRGILTLKYPIEHGIVTNWDDMEKIWHHTFYNELRVAPEEHPVLLTEAPLNPKANREKM\r\n",
      "Actin1                SKRGVLTVKYPIEHGIVSNWDDMEKIWHHTFYNELRIAPEEHPVLLTEAPLNPKANREKM\r\n",
      "HOVITM_043299-T1      SKRGILTVKYPIEHGIVTNWDDMEKIWHHTFYNELRVAPEEHPVLLTEAPLNPKANREKM\r\n",
      "                      ****:**:********::******************:******:****************\r\n",
      "\r\n",
      "HOVITM_100357-T1      TQIMFETFNTPAMYVAIQAVLSLYASGRTTGIVLDSGDGVSHTVPIYEGYALPHAILRLD\r\n",
      "Actin2                TQIMFETFNTPAMYVAIQAVLSLYASGRTTGIVLDSGDGVSHTVPIYEGYALPHAILRLD\r\n",
      "HOVITM_022703-T1      TQIMFETFNTPAMYVAIQAVLSLYASGRTTGIVLDSGDGVSHTVPIYEGYALPHAILRLD\r\n",
      "HOVITM_022702-T1      TQIMFETFNTPAMYVAIQAVLSLYASGRTTGIVLDSGDGVSHTVPIYEGYALPHAILRLD\r\n",
      "Actin4                TQIMFETFNTPAMYVAIQAVLSLYASGRTTGIVLDSGD----------GYALPHAILRLD\r\n",
      "Actin1                TQIMFETFNTPAMYVAIQAVLSLYASGRTTGIVLDSGDGVSHTVPIYEGYALPHAILRLD\r\n",
      "HOVITM_043299-T1      TQIMFETFNTPAMYVAIQAVLSLYASGRTTGIVLDSGDGVSHTVPIYEGYALPHAILRLD\r\n",
      "                      **************************************          ************\r\n",
      "\r\n",
      "HOVITM_100357-T1      LAGRDLTDYLMKILTERGYSFTTTAEREIVRDIKEKLCYVALDFEQEMATAAASTSLEKS\r\n",
      "Actin2                LAGRDLTDYLMKILTERGYSFTTTAEREIVRDIKEKLCYVALDFEQEMATAAASTSLEKS\r\n",
      "HOVITM_022703-T1      LAGRDLTDYLMKILTERGYSFTTTAEREIVRDIKEKLCYVALDFEQEMATAASSSSLEKS\r\n",
      "HOVITM_022702-T1      LAGRDLTDYLMKILTERGYSFTTTAEREIVRDIKEKLCYVALDFEQEMATAASSSSLEKS\r\n",
      "Actin4                LAGRDLTDYLMKILTERGYSFTTTAEREIVRDIKEKLCYVALDFEQEMATAASSSSLEKS\r\n",
      "Actin1                LAGRDLTDYLMKILTERGYSFTTTAEREIVRDIKEKLCYVALDFEQEMATAASSSSLEKS\r\n",
      "HOVITM_043299-T1      LAGRDLTDYLMKILTERGYSFTTTAEREIVRDIKEKLCYVALDFEQEMATAASSSSLEKS\r\n",
      "                      ****************************************************:*:*****\r\n",
      "\r\n",
      "HOVITM_100357-T1      YELPDGQVITIGNERFRCPEALFQPSFLGMESCGIHETVYNSIMKCDVDIRKDLYANTVL\r\n",
      "Actin2                YELPDGQVITIGNERFRCPEALFQPSFLGMESCGIHETVYNSIMKCDVDIRKDLYANTVL\r\n",
      "HOVITM_022703-T1      YELPDGQVITIGNERFRCPEAMFQPSFLGMEANGLHETTYNSIMKCDVDIRKDLYANTVL\r\n",
      "HOVITM_022702-T1      YELPDGQVITIGNERFRCPEALFQPSFLGMEACGIHETTYNSIMKCDVDIRKDLYANTVL\r\n",
      "Actin4                YELPDGQVITIGNERFRCPEALFQPSFLGMEACGIHETTYNSIMKCDVDIRKDLYANTVL\r\n",
      "Actin1                YELPDGQVITIGNERFRCPEAMFQPSFLGMESCGIHETTYNSIMKCDVDIRKDLYANTVL\r\n",
      "HOVITM_043299-T1      YELPDGQVITIGNERFRCPEAMFQPSFLGMESCGIHETTYNSIMKCDVDIRKDLYANSVL\r\n",
      "                      *********************:*********: *:***.******************:**\r\n",
      "\r\n",
      "HOVITM_100357-T1      SGGTTMYPGIADRMQKEITALAPSTIKIKIIAPPERKYSVWIGGSILASLSTFQQMWISK\r\n",
      "Actin2                SGGTTMYPGIADRMQKEITALAPSTIKIKIIAPPERKYSVWIGGSILASLSTFQQMWISK\r\n",
      "HOVITM_022703-T1      SGGTTMYPGIADRMQKEITALAPSTMKIKIIAPPERKYSVWIGGSILASLSTFQQMWISK\r\n",
      "HOVITM_022702-T1      SGGTTMYPGIADRMQKEITALAPSTMKIKIIAPPERKYSVWIGGSILASLSTFQQMWISK\r\n",
      "Actin4                SGGTTMYPGIADRMQKEITALAPSTMKIKIIAPPERKYSVWIGGSILASLSTFQQMWISK\r\n",
      "Actin1                SGGTTMYPGIADRMQKEITALAPSTMKIKIVAPPERKYSVWIGGSILASLSTFQQMWISK\r\n",
      "HOVITM_043299-T1      SGGTTMYPGIADRMQKEITALAPSTMKIKIIAPPERKYSVWIGGSILASLSTFQQMWISK\r\n",
      "                      *************************:****:*****************************\r\n",
      "\r\n",
      "HOVITM_100357-T1      QEYDESGPGIVHRKCF\r\n",
      "Actin2                QEYDESGPGIVHRKCF\r\n",
      "HOVITM_022703-T1      QEYDESGPSIVHRKCF\r\n",
      "HOVITM_022702-T1      QEYDESGPSIVHRKCF\r\n",
      "Actin4                QEYDESGPSIVHRKCF\r\n",
      "Actin1                QEYDESGPSIVHRKCF\r\n",
      "HOVITM_043299-T1      QEYDESGPSIVHRKCF\r\n",
      "                      ********.*******\r\n"
     ]
    }
   ],
   "source": [
    "!cat Actin.combined.results/Actin.with4.aln"
   ]
  },
  {
   "cell_type": "code",
   "execution_count": 29,
   "metadata": {},
   "outputs": [
    {
     "name": "stdout",
     "output_type": "stream",
     "text": [
      " , HOVITM_022702-T1\n",
      " |\n",
      " | Actin4\n",
      "_|\n",
      " |                                                     , HOVITM_100357-T1\n",
      " |     ________________________________________________|\n",
      " |    |                                                | Actin2\n",
      " |____|\n",
      "      |      __________ HOVITM_022703-T1\n",
      "      |_____|\n",
      "            |                     ___________________________ Actin1\n",
      "            |____________________|\n",
      "                                 |__________ HOVITM_043299-T1\n",
      "\n"
     ]
    }
   ],
   "source": [
    "tree = Phylo.read(\"Actin.combined.results/Actin.with4.aln.tre\", \"newick\")\n",
    "Phylo.draw_ascii(tree)"
   ]
  },
  {
   "cell_type": "code",
   "execution_count": 31,
   "metadata": {},
   "outputs": [
    {
     "name": "stdout",
     "output_type": "stream",
     "text": [
      "                                 , HOVITM_022702-T1\n",
      "                              ___|\n",
      "                             |   | Actin4\n",
      "  ___________________________|\n",
      " |                           |   ______ HOVITM_022703-T1\n",
      " |                           |__|\n",
      " |                              |             _______________ Actin1\n",
      " |                              |____________|\n",
      " |                                           |_____ HOVITM_043299-T1\n",
      "_|\n",
      " | HOVITM_100357-T1\n",
      " |\n",
      " | Actin2\n",
      "\n"
     ]
    }
   ],
   "source": [
    "tree = Phylo.read(\"Actin.combined.results/Actin.with4.aln.tre\", \"newick\")\n",
    "#root to Actin2 \n",
    "tree.root_with_outgroup({\"name\": \"Actin2\"}) \n",
    "Phylo.draw_ascii(tree)"
   ]
  },
  {
   "cell_type": "markdown",
   "metadata": {},
   "source": [
    "Actin2 = HOVITM_100357\n",
    "Actin4 = HOVITM_022702\n",
    "Actin1 = HOVITM_043299\n",
    "\n",
    "And possible putative Actin HOVITM_022703"
   ]
  },
  {
   "cell_type": "markdown",
   "metadata": {},
   "source": [
    "Need to reverse search uniprot or similar to confirm, may provide some info about that putative one since didn't match andy from white fly"
   ]
  },
  {
   "cell_type": "code",
   "execution_count": null,
   "metadata": {},
   "outputs": [],
   "source": []
  }
 ],
 "metadata": {
  "kernelspec": {
   "display_name": "Python 3",
   "language": "python",
   "name": "python3"
  },
  "language_info": {
   "codemirror_mode": {
    "name": "ipython",
    "version": 3
   },
   "file_extension": ".py",
   "mimetype": "text/x-python",
   "name": "python",
   "nbconvert_exporter": "python",
   "pygments_lexer": "ipython3",
   "version": "3.7.6"
  }
 },
 "nbformat": 4,
 "nbformat_minor": 4
}
