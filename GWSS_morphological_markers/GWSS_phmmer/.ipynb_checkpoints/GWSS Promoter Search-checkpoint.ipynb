{
 "cells": [
  {
   "cell_type": "markdown",
   "metadata": {},
   "source": [
    "# GWSS Consitutive Promoter Ortholog Search\n",
    "\n",
    "By: Cassie Ettinger\n",
    "Email: cassandra.ettinger@ucr.edu"
   ]
  },
  {
   "cell_type": "code",
   "execution_count": 1,
   "metadata": {},
   "outputs": [],
   "source": [
    "#loads some basic os/ipython functionality\n",
    "from os import chdir, mkdir\n",
    "from os.path import join\n",
    "from IPython.display import FileLinks, FileLink\n",
    "from Bio import Phylo"
   ]
  },
  {
   "cell_type": "markdown",
   "metadata": {},
   "source": [
    "## Data processing"
   ]
  },
  {
   "cell_type": "markdown",
   "metadata": {},
   "source": [
    "Get orthologs from flybase / white fly genomes (bga)"
   ]
  },
  {
   "cell_type": "code",
   "execution_count": null,
   "metadata": {},
   "outputs": [],
   "source": [
    "# First - turn multiline fasta into single line fasta file\n",
    "!awk '/^>/ {printf(\"\\n%s\\n\",$0);next; } { printf(\"%s\",$0);}  END {printf(\"\\n\");}'\n",
    "< promoter_prot.fasta > promoter_prot.fixed.fasta"
   ]
  },
  {
   "cell_type": "code",
   "execution_count": null,
   "metadata": {},
   "outputs": [],
   "source": [
    "#split genes into seperate fasta files\n",
    "for gene in $(cat genes.txt);\n",
    "do grep -A 1 '>'$gene promoter_prot.fixed.fasta | sed '/^--$/d' > $gene'.fasta'; \n",
    "done"
   ]
  },
  {
   "cell_type": "markdown",
   "metadata": {},
   "source": [
    "## Run phmmer to identify ortholog candidates"
   ]
  },
  {
   "cell_type": "code",
   "execution_count": null,
   "metadata": {},
   "outputs": [],
   "source": [
    "for gene in $(cat genes.txt);\n",
    "do phmmer --tblout $gene'phmmer_out_table' -o $gene'_phmmer_out' $gene'.fasta' Homalodisca_vitripennis_A6A7A9_masurca_v1.proteins.fixed.fa;\n",
    "done                   "
   ]
  },
  {
   "cell_type": "code",
   "execution_count": null,
   "metadata": {},
   "outputs": [],
   "source": [
    "#clean up\n",
    "for gene in $(cat genes.txt);\n",
    "do mkdir $gene'_results';\n",
    "done"
   ]
  },
  {
   "cell_type": "code",
   "execution_count": null,
   "metadata": {},
   "outputs": [],
   "source": [
    "for gene in $(cat genes.txt);\n",
    "do mv $gene* $gene'_results';\n",
    "done\n",
    "#will error about the results folders but thats OK"
   ]
  },
  {
   "cell_type": "markdown",
   "metadata": {},
   "source": [
    "## Look at phmmer results"
   ]
  },
  {
   "cell_type": "code",
   "execution_count": 2,
   "metadata": {},
   "outputs": [
    {
     "name": "stdout",
     "output_type": "stream",
     "text": [
      "cat: PolyubiquitinA_results/PolyubiquitinAphmmer_out_table: No such file or directory\r\n"
     ]
    }
   ],
   "source": [
    "!cat PolyubiquitinA_results/PolyubiquitinAphmmer_out_table "
   ]
  },
  {
   "cell_type": "code",
   "execution_count": null,
   "metadata": {},
   "outputs": [],
   "source": []
  }
 ],
 "metadata": {
  "kernelspec": {
   "display_name": "Python 3",
   "language": "python",
   "name": "python3"
  },
  "language_info": {
   "codemirror_mode": {
    "name": "ipython",
    "version": 3
   },
   "file_extension": ".py",
   "mimetype": "text/x-python",
   "name": "python",
   "nbconvert_exporter": "python",
   "pygments_lexer": "ipython3",
   "version": "3.7.6"
  }
 },
 "nbformat": 4,
 "nbformat_minor": 4
}
